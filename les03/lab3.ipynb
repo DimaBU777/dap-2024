{
  "cells": [
    {
      "cell_type": "markdown",
      "metadata": {
        "id": "view-in-github",
        "colab_type": "text"
      },
      "source": [
        "<a href=\"https://colab.research.google.com/github/DimaBU777/dap-2024/blob/main/lab3.ipynb\" target=\"_parent\"><img src=\"https://colab.research.google.com/assets/colab-badge.svg\" alt=\"Open In Colab\"/></a>"
      ]
    },
    {
      "cell_type": "markdown",
      "metadata": {
        "id": "qQvfD-M40xIt"
      },
      "source": [
        "# Лабораторная работа №3. NumPy"
      ]
    },
    {
      "cell_type": "markdown",
      "metadata": {
        "id": "WqfyDdo1t_3A"
      },
      "source": [
        "## Задание"
      ]
    },
    {
      "cell_type": "markdown",
      "metadata": {
        "id": "Q8FFEA2R08uS"
      },
      "source": [
        "Выполните следующие задания:\n",
        "\n",
        "1. Откройте в файл в Google Colab (используйте собственный форк репозитория).\n",
        "2. Решите задачи.\n",
        "3. Сохраните результат в ваш репозиторий github в директорию ./les03\n",
        "4. Создайте pull request в репозиторий https://github.com/chebotarevsa/dap-2024. Название pull request должно иметь формат \"<3>  <12002208> <Бурдюжа Д.А.>\"\n",
        "5. Сдайте работу в системе \"Пегас\", в отчет укажите ссылку на pull request"
      ]
    },
    {
      "cell_type": "code",
      "execution_count": null,
      "metadata": {
        "colab": {
          "base_uri": "https://localhost:8080/",
          "height": 35
        },
        "id": "3ftbuMN45IlN",
        "outputId": "c1836a45-a558-4c2f-8849-0f463eaa6317"
      },
      "outputs": [
        {
          "output_type": "execute_result",
          "data": {
            "text/plain": [
              "'1.26.4'"
            ],
            "application/vnd.google.colaboratory.intrinsic+json": {
              "type": "string"
            }
          },
          "metadata": {},
          "execution_count": 11
        }
      ],
      "source": [
        "import numpy as np\n",
        "np.version.version"
      ]
    },
    {
      "cell_type": "markdown",
      "metadata": {
        "id": "6iPL4gTu2ECp"
      },
      "source": [
        "1. Создать массив 10x10 со случайными значениями, найти минимум и максимум (низкая)"
      ]
    },
    {
      "cell_type": "code",
      "execution_count": 1,
      "metadata": {
        "id": "v-AutHvo2T-D",
        "colab": {
          "base_uri": "https://localhost:8080/"
        },
        "outputId": "a17e8b72-7857-40b7-c598-416ee93120ee"
      },
      "outputs": [
        {
          "output_type": "stream",
          "name": "stdout",
          "text": [
            "\n",
            "Созданный массив: \n",
            "\n",
            " [[59 27 28 57 79 73 76  3 22 93]\n",
            " [ 8 68  2  9 48 76 97 46 99 60]\n",
            " [77 62 59 14 75 41 65 99 42 83]\n",
            " [14 43 85  8 76 87 75 45 44 90]\n",
            " [28  5 42 75 83 33 95 54 71 81]\n",
            " [92 34 37 48 94 94  2 79 41 68]\n",
            " [84 78 45 97 62 88 42 66 90  7]\n",
            " [75 82 35 31 66 55 11 28 82 47]\n",
            " [16 63 57 72 91 66 16 19 98 32]\n",
            " [53  9 12 21 78 98 14 44 21 85]]\n",
            "\n",
            "Минимальное значение: 2\n",
            "Максимальное значение: 99\n"
          ]
        }
      ],
      "source": [
        "import numpy as np\n",
        "array = np.random.randint(1, 100, (10, 10))\n",
        "print(\"\\nСозданный массив: \\n\\n\", array)\n",
        "print(\"\\nМинимальное значение:\", array.min())\n",
        "print(\"Максимальное значение:\", array.max())"
      ]
    },
    {
      "cell_type": "markdown",
      "metadata": {
        "id": "cwxKoGik2Xfd"
      },
      "source": [
        "2. Создать 8x8 матрицу и заполнить её единицами и нулями в шахматном порядке"
      ]
    },
    {
      "cell_type": "code",
      "execution_count": 2,
      "metadata": {
        "id": "zACAjKWC2lBy",
        "colab": {
          "base_uri": "https://localhost:8080/"
        },
        "outputId": "c34e3237-b622-478d-a908-bffa2824e030"
      },
      "outputs": [
        {
          "output_type": "stream",
          "name": "stdout",
          "text": [
            "Матрица 8х8 в шахматном порядке: \n",
            " [[0. 1. 0. 1. 0. 1. 0. 1.]\n",
            " [1. 0. 1. 0. 1. 0. 1. 0.]\n",
            " [0. 1. 0. 1. 0. 1. 0. 1.]\n",
            " [1. 0. 1. 0. 1. 0. 1. 0.]\n",
            " [0. 1. 0. 1. 0. 1. 0. 1.]\n",
            " [1. 0. 1. 0. 1. 0. 1. 0.]\n",
            " [0. 1. 0. 1. 0. 1. 0. 1.]\n",
            " [1. 0. 1. 0. 1. 0. 1. 0.]]\n"
          ]
        }
      ],
      "source": [
        "import numpy as np\n",
        "matrix = np.zeros((8,8))\n",
        "matrix[::2, 1::2] = 1\n",
        "matrix[1::2, ::2] = 1\n",
        "print(\"Матрица 8х8 в шахматном порядке: \\n\", matrix)"
      ]
    },
    {
      "cell_type": "markdown",
      "metadata": {
        "id": "YvNFm7Io2tSA"
      },
      "source": [
        "3. Дан массив из 11 элементов, поменять знак у элементов, значения которых между 3 и 8"
      ]
    },
    {
      "cell_type": "code",
      "execution_count": 3,
      "metadata": {
        "id": "cczoe3OY27fA",
        "colab": {
          "base_uri": "https://localhost:8080/"
        },
        "outputId": "2abd8774-4562-44ff-b820-cc1890552381"
      },
      "outputs": [
        {
          "output_type": "stream",
          "name": "stdout",
          "text": [
            "Исходный массив:\n",
            " [ 0  1  2  3  4  5  6  7  8  9 10]\n",
            "\n",
            "Измененный массив:\n",
            " [ 0  1  2  3 -4 -5 -6 -7  8  9 10]\n"
          ]
        }
      ],
      "source": [
        "import numpy as np\n",
        "x = np.arange(11)\n",
        "print(\"Исходный массив:\\n\", x)\n",
        "x[(x > 3) & (x < 8)] *= -1\n",
        "print(\"\\nИзмененный массив:\\n\", x)"
      ]
    },
    {
      "cell_type": "markdown",
      "metadata": {
        "id": "tInYHRPf2-jQ"
      },
      "source": [
        "4. Найти среднее заначение строки матрицы и вычесть его из каждого елемента строки"
      ]
    },
    {
      "cell_type": "code",
      "execution_count": 4,
      "metadata": {
        "id": "Zbv_WG9w3km1",
        "colab": {
          "base_uri": "https://localhost:8080/"
        },
        "outputId": "f52d017a-1183-443c-9fea-ce28edc7a2f4"
      },
      "outputs": [
        {
          "output_type": "stream",
          "name": "stdout",
          "text": [
            "Матрица: \n",
            " [[0.94901512 0.48443253 0.40784079 0.27831017 0.07771674 0.29141087\n",
            "  0.06292453 0.69145783 0.07575932 0.51032328]\n",
            " [0.31991945 0.19483834 0.72092532 0.99358383 0.76777425 0.44649449\n",
            "  0.96340301 0.9695401  0.78843838 0.91622103]\n",
            " [0.94086494 0.18244498 0.35308169 0.73529072 0.87831997 0.6556202\n",
            "  0.00216404 0.58190924 0.29344244 0.9816847 ]\n",
            " [0.10474995 0.32263447 0.69576529 0.34257619 0.92314874 0.01942821\n",
            "  0.70913202 0.35467842 0.80708462 0.73398539]\n",
            " [0.82590527 0.47972053 0.27246508 0.1571777  0.63492847 0.27987315\n",
            "  0.78183527 0.50080524 0.88024844 0.13923867]]\n",
            "\n",
            "Среднее значение:\n",
            " [[0.38291912]\n",
            " [0.70811382]\n",
            " [0.56048229]\n",
            " [0.50131833]\n",
            " [0.49521978]]\n",
            "\n",
            "Измененная матрица:\n",
            " [[ 0.566096    0.10151341  0.02492167 -0.10460895 -0.30520238 -0.09150825\n",
            "  -0.31999458  0.30853871 -0.3071598   0.51032328]\n",
            " [-0.38819437 -0.51327548  0.0128115   0.28547001  0.05966043 -0.26161933\n",
            "   0.25528919  0.26142628  0.08032456  0.91622103]\n",
            " [ 0.38038265 -0.37803731 -0.2074006   0.17480843  0.31783768  0.0951379\n",
            "  -0.55831825  0.02142695 -0.26703985  0.9816847 ]\n",
            " [-0.39656838 -0.17868386  0.19444696 -0.15874214  0.42183041 -0.48189012\n",
            "   0.20781369 -0.14663991  0.30576629  0.73398539]\n",
            " [ 0.33068549 -0.01549925 -0.22275471 -0.33804208  0.13970869 -0.21534663\n",
            "   0.28661548  0.00558546  0.38502866  0.13923867]]\n"
          ]
        }
      ],
      "source": [
        "import numpy as np\n",
        "z = np.random.rand(5, 10)\n",
        "print(\"Матрица: \\n\", z)\n",
        "means = np.mean(z, axis=1, keepdims=True)\n",
        "z[:, :9] -= means\n",
        "print(\"\\nСреднее значение:\\n\", means)\n",
        "print(\"\\nИзмененная матрица:\\n\", z)"
      ]
    },
    {
      "cell_type": "markdown",
      "metadata": {
        "id": "OStor4mW3lpJ"
      },
      "source": [
        "5. Поменяйте 1 и 2 строки матрицы"
      ]
    },
    {
      "cell_type": "code",
      "execution_count": 5,
      "metadata": {
        "id": "5vfeHqyF3qKd",
        "colab": {
          "base_uri": "https://localhost:8080/"
        },
        "outputId": "ceeaf619-c17b-4607-a4c8-d54efba0ca33"
      },
      "outputs": [
        {
          "output_type": "stream",
          "name": "stdout",
          "text": [
            "Матрица:\n",
            " [[ 0  1  2  3  4]\n",
            " [ 5  6  7  8  9]\n",
            " [10 11 12 13 14]\n",
            " [15 16 17 18 19]\n",
            " [20 21 22 23 24]]\n",
            "\n",
            "Измененная матрица:\n",
            " [[ 0  1  2  3  4]\n",
            " [10 11 12 13 14]\n",
            " [ 5  6  7  8  9]\n",
            " [15 16 17 18 19]\n",
            " [20 21 22 23 24]]\n"
          ]
        }
      ],
      "source": [
        "import numpy as np\n",
        "z = np.arange(25).reshape(5,5)\n",
        "print(\"Матрица:\\n\", z)\n",
        "z[[1, 2]] = z[[2, 1]]\n",
        "print(\"\\nИзмененная матрица:\\n\", z)"
      ]
    },
    {
      "cell_type": "markdown",
      "metadata": {
        "id": "IPQ9xIIk3qml"
      },
      "source": [
        "6. Дан массив 10x2 подеставлющий собой точки в декартовой системе координат, преобразовать в полярную"
      ]
    },
    {
      "cell_type": "code",
      "execution_count": 6,
      "metadata": {
        "id": "zGHBaX8b30Uv",
        "colab": {
          "base_uri": "https://localhost:8080/"
        },
        "outputId": "65dcd352-43f2-439d-e7d7-e0868eb4751e"
      },
      "outputs": [
        {
          "output_type": "stream",
          "name": "stdout",
          "text": [
            "Декартова система координат:\n",
            " [[0.44683091 0.43521433]\n",
            " [0.10764358 0.88954515]\n",
            " [0.43931368 0.07591341]\n",
            " [0.12426513 0.12746822]\n",
            " [0.09921533 0.68858206]\n",
            " [0.02610981 0.80878166]\n",
            " [0.89973043 0.66253549]\n",
            " [0.93598331 0.84746053]\n",
            " [0.69632287 0.20383675]\n",
            " [0.43091189 0.61401037]]\n",
            "\n",
            "Полярные координаты:\n",
            " [[0.62375426 0.77222887]\n",
            " [0.89603444 1.45037216]\n",
            " [0.44582435 0.17111025]\n",
            " [0.17801677 0.79812159]\n",
            " [0.69569313 1.42769478]\n",
            " [0.809203   1.53852465]\n",
            " [1.1173487  0.6347214 ]\n",
            " [1.26263776 0.735803  ]\n",
            " [0.7255446  0.28477665]\n",
            " [0.75012918 0.95886397]]\n"
          ]
        }
      ],
      "source": [
        "import numpy as np\n",
        "z = np.random.random((10, 2))\n",
        "print(\"Декартова система координат:\\n\", z)\n",
        "x = z[:, 0]\n",
        "y = z[:, 1]\n",
        "r = np.sqrt(x ** 2 + y ** 2)\n",
        "phi = np.arctan2(y, x)\n",
        "pz = np.column_stack((r, phi))\n",
        "print(\"\\nПолярные координаты:\\n\", pz)"
      ]
    },
    {
      "cell_type": "markdown",
      "metadata": {
        "id": "10gbuTgE4AOH"
      },
      "source": [
        "7. Заменить максимальный элемент массива на ноль"
      ]
    },
    {
      "cell_type": "code",
      "execution_count": 7,
      "metadata": {
        "id": "gqwuO2T_5Aqd",
        "colab": {
          "base_uri": "https://localhost:8080/"
        },
        "outputId": "30427f02-15a4-4b17-ec88-5c9821b4420f"
      },
      "outputs": [
        {
          "output_type": "stream",
          "name": "stdout",
          "text": [
            "Массив:\n",
            " [0.5177946  0.38798395 0.50225519 0.39739594 0.51114838 0.7057542\n",
            " 0.16850762 0.28369031 0.32296986 0.16953792]\n",
            "\n",
            "Индекс максимального элемента: 5\n",
            "\n",
            "Измененный массив:\n",
            " [0.5177946  0.38798395 0.50225519 0.39739594 0.51114838 0.\n",
            " 0.16850762 0.28369031 0.32296986 0.16953792]\n"
          ]
        }
      ],
      "source": [
        "import numpy as np\n",
        "z = np.random.random(10)\n",
        "print(\"Массив:\\n\", z)\n",
        "max = np.argmax(z)\n",
        "print(\"\\nИндекс максимального элемента:\", max)\n",
        "z[max] = 0\n",
        "print(\"\\nИзмененный массив:\\n\", z)"
      ]
    },
    {
      "cell_type": "markdown",
      "metadata": {
        "id": "88m_eWXM6nZY"
      },
      "source": [
        "8. Дан массив, добавить 1 к каждому элементу с индексом, заданным в другом массиве. Добавление производиться только 1 раз"
      ]
    },
    {
      "cell_type": "code",
      "execution_count": 8,
      "metadata": {
        "id": "-5yj9k126pfh",
        "colab": {
          "base_uri": "https://localhost:8080/"
        },
        "outputId": "9388ecd5-47c3-4ec8-a41e-bee38b1c411f"
      },
      "outputs": [
        {
          "output_type": "stream",
          "name": "stdout",
          "text": [
            "Массив:\n",
            " [1. 1. 1. 1. 1. 1. 1. 1. 1. 1.]\n",
            "\n",
            "Массив индексов:\n",
            " [1 9 8 7 4 2 7 1 4 4 9 6 0 7 8 5 6 4 5 2]\n",
            "\n",
            "Измененный массив:\n",
            " [2. 2. 2. 1. 2. 2. 2. 2. 2. 2.]\n"
          ]
        }
      ],
      "source": [
        "import numpy as np\n",
        "z = np.ones(10)\n",
        "i = np.random.randint(0,len(z),20)\n",
        "print(\"Массив:\\n\", z)\n",
        "print(\"\\nМассив индексов:\\n\", i)\n",
        "unique = np.unique(i)\n",
        "z[unique] += 1\n",
        "print(\"\\nИзмененный массив:\\n\", z)"
      ]
    },
    {
      "cell_type": "markdown",
      "metadata": {
        "id": "0HByAVK77JCG"
      },
      "source": [
        "9. Дан вектор [1, 2, 3, 4, 5], построить новый вектор с тремя нулями между каждым значением"
      ]
    },
    {
      "cell_type": "code",
      "execution_count": 9,
      "metadata": {
        "id": "2AiZt-J47dqq",
        "colab": {
          "base_uri": "https://localhost:8080/"
        },
        "outputId": "4e093d1c-60c2-4ecb-926d-7f0be95a2496"
      },
      "outputs": [
        {
          "output_type": "stream",
          "name": "stdout",
          "text": [
            "Вектор:\n",
            " [1 2 3 4 5]\n",
            "\n",
            "Новый вектор:\n",
            " [1. 0. 0. 0. 2. 0. 0. 0. 3. 0. 0. 0. 4. 0. 0. 0. 5.]\n"
          ]
        }
      ],
      "source": [
        "import numpy as np\n",
        "z = np.array([1,2,3,4,5])\n",
        "print(\"Вектор:\\n\", z)\n",
        "x = np.zeros(len(z) + (len(z) - 1) * 3)\n",
        "x[::4] = z\n",
        "print(\"\\nНовый вектор:\\n\", x)"
      ]
    },
    {
      "cell_type": "markdown",
      "metadata": {
        "id": "i0uK-dO08AKP"
      },
      "source": [
        "10. Найти ближайшее к заданному значению число в заданном массиве"
      ]
    },
    {
      "cell_type": "code",
      "execution_count": 10,
      "metadata": {
        "id": "sE0DlZO_-4Cb",
        "colab": {
          "base_uri": "https://localhost:8080/"
        },
        "outputId": "6a951996-3fb7-4550-ead8-a6a59265bd97"
      },
      "outputs": [
        {
          "output_type": "stream",
          "name": "stdout",
          "text": [
            "Массив:\n",
            " [ 0  1  2  3  4  5  6  7  8  9 10 11 12 13 14 15 16 17 18 19 20 21 22 23\n",
            " 24 25 26 27 28 29 30 31 32 33 34 35 36 37 38 39 40 41 42 43 44 45 46 47\n",
            " 48 49 50 51 52 53 54 55 56 57 58 59 60 61 62 63 64 65 66 67 68 69 70 71\n",
            " 72 73 74 75 76 77 78 79 80 81 82 83 84 85 86 87 88 89 90 91 92 93 94 95\n",
            " 96 97 98 99]\n",
            "\n",
            "Заданное значение: 60.64288271322026\n",
            "\n",
            "Ближайшее значение для 60.64288271322026 = 61\n"
          ]
        }
      ],
      "source": [
        "import numpy as np\n",
        "z = np.arange(100)\n",
        "v = np.random.uniform(0,100)\n",
        "print(\"Массив:\\n\", z)\n",
        "print(\"\\nЗаданное значение:\", v)\n",
        "x = np.fabs(z - v).argmin()\n",
        "y = z[x]\n",
        "print(\"\\nБлижайшее значение для\", v, \"=\", y)"
      ]
    }
  ],
  "metadata": {
    "colab": {
      "provenance": [],
      "include_colab_link": true
    },
    "kernelspec": {
      "display_name": "Python 3",
      "name": "python3"
    },
    "language_info": {
      "codemirror_mode": {
        "name": "ipython",
        "version": 3
      },
      "file_extension": ".py",
      "mimetype": "text/x-python",
      "name": "python",
      "nbconvert_exporter": "python",
      "pygments_lexer": "ipython3",
      "version": "3.12.2"
    }
  },
  "nbformat": 4,
  "nbformat_minor": 0
}
