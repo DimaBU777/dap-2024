{
  "nbformat": 4,
  "nbformat_minor": 0,
  "metadata": {
    "colab": {
      "provenance": [],
      "authorship_tag": "ABX9TyOT7Qer2e6hkKED0POMf6Qw",
      "include_colab_link": true
    },
    "kernelspec": {
      "name": "python3",
      "display_name": "Python 3"
    },
    "language_info": {
      "name": "python"
    }
  },
  "cells": [
    {
      "cell_type": "markdown",
      "metadata": {
        "id": "view-in-github",
        "colab_type": "text"
      },
      "source": [
        "<a href=\"https://colab.research.google.com/github/DimaBU777/dap-2024/blob/main/lab3.ipynb\" target=\"_parent\"><img src=\"https://colab.research.google.com/assets/colab-badge.svg\" alt=\"Open In Colab\"/></a>"
      ]
    },
    {
      "cell_type": "code",
      "source": [
        "import numpy as np\n",
        "\n",
        "# Создание массива 10x10 со случайными значениями\n",
        "array = np.random.rand(10, 10)  # Значения в диапазоне [0, 1]\n",
        "\n",
        "# Поиск минимума и максимума\n",
        "min_value = np.min(array)\n",
        "max_value = np.max(array)\n",
        "\n",
        "print(\"Массив:\\n\", array)\n",
        "print(\"Минимальное значение:\", min_value)\n",
        "print(\"Максимальное значение:\", max_value)\n"
      ],
      "metadata": {
        "id": "ixvzwpnE4iDA",
        "colab": {
          "base_uri": "https://localhost:8080/"
        },
        "outputId": "de14eda0-94f3-4a0d-9a65-9d119bce0e45"
      },
      "execution_count": null,
      "outputs": [
        {
          "output_type": "stream",
          "name": "stdout",
          "text": [
            "Массив:\n",
            " [[0.44168947 0.7900813  0.3684044  0.47309496 0.06895944 0.17624727\n",
            "  0.63297653 0.73596555 0.17022217 0.54576377]\n",
            " [0.37751027 0.67440797 0.28454106 0.77158902 0.88535929 0.43416681\n",
            "  0.53489742 0.07360551 0.47403134 0.36688777]\n",
            " [0.04714808 0.18068977 0.41942306 0.79157689 0.4561053  0.08212505\n",
            "  0.20022908 0.92491375 0.3068302  0.29379815]\n",
            " [0.86887132 0.2896357  0.7730572  0.69564567 0.36830331 0.15432818\n",
            "  0.16949286 0.52349262 0.62477809 0.96720372]\n",
            " [0.84325179 0.36718059 0.66367558 0.88564431 0.41259131 0.87262653\n",
            "  0.51672864 0.70377578 0.06985946 0.50054714]\n",
            " [0.93760481 0.42558944 0.35524711 0.09740499 0.57345255 0.0497222\n",
            "  0.94744062 0.19363804 0.32689907 0.38303352]\n",
            " [0.62758645 0.13593529 0.67859587 0.12569097 0.46110045 0.52503331\n",
            "  0.07233075 0.61847883 0.7714215  0.41669214]\n",
            " [0.03250732 0.38935389 0.03318349 0.02332328 0.57753405 0.90396483\n",
            "  0.88505517 0.52774182 0.06268669 0.83271613]\n",
            " [0.20671924 0.04620369 0.25202056 0.46211875 0.06686492 0.18703017\n",
            "  0.91919599 0.33792592 0.40951553 0.32452376]\n",
            " [0.27750133 0.4377918  0.50413622 0.37501677 0.38667588 0.69339979\n",
            "  0.70565377 0.53353848 0.41112815 0.69310579]]\n",
            "Минимальное значение: 0.023323278474283615\n",
            "Максимальное значение: 0.9672037246465325\n"
          ]
        }
      ]
    },
    {
      "cell_type": "code",
      "source": [
        "import numpy as np\n",
        "\n",
        "# Создание матрицы 8x8\n",
        "chessboard = np.zeros((8, 8), dtype=int)\n",
        "\n",
        "# Заполнение в шахматном порядке\n",
        "chessboard[1::2, ::2] = 1  # Четные строки, нечетные столбцы\n",
        "chessboard[::2, 1::2] = 1  # Нечетные строки, четные столбцы\n",
        "\n",
        "print(chessboard)\n"
      ],
      "metadata": {
        "colab": {
          "base_uri": "https://localhost:8080/"
        },
        "id": "hti7Mgky6rqu",
        "outputId": "a2b0eb5f-3139-480a-cc13-6a6af320c068"
      },
      "execution_count": null,
      "outputs": [
        {
          "output_type": "stream",
          "name": "stdout",
          "text": [
            "[[0 1 0 1 0 1 0 1]\n",
            " [1 0 1 0 1 0 1 0]\n",
            " [0 1 0 1 0 1 0 1]\n",
            " [1 0 1 0 1 0 1 0]\n",
            " [0 1 0 1 0 1 0 1]\n",
            " [1 0 1 0 1 0 1 0]\n",
            " [0 1 0 1 0 1 0 1]\n",
            " [1 0 1 0 1 0 1 0]]\n"
          ]
        }
      ]
    },
    {
      "cell_type": "code",
      "source": [
        "import numpy as np\n",
        "\n",
        "z = np.arange(11)\n",
        "\n",
        "# Поменять знак у элементов, значения которых между 3 и 8\n",
        "z[(z > 3) & (z < 8)] *= -1\n",
        "\n",
        "print(z)\n"
      ],
      "metadata": {
        "colab": {
          "base_uri": "https://localhost:8080/"
        },
        "id": "MIn9uyxx6-DV",
        "outputId": "a3b28b4b-60e8-410a-da4c-5daf372fe43a"
      },
      "execution_count": null,
      "outputs": [
        {
          "output_type": "stream",
          "name": "stdout",
          "text": [
            "[ 0  1  2  3 -4 -5 -6 -7  8  9 10]\n"
          ]
        }
      ]
    },
    {
      "cell_type": "code",
      "source": [
        "import numpy as np\n",
        "\n",
        "z = np.random.rand(5, 10)\n",
        "\n",
        "# Находим среднее значение для каждой строки\n",
        "mean_values = np.mean(z, axis=1)\n",
        "\n",
        "# Вычитаем среднее значение из каждого элемента строки\n",
        "z = z - mean_values[:, np.newaxis]\n",
        "\n",
        "print(z)\n"
      ],
      "metadata": {
        "colab": {
          "base_uri": "https://localhost:8080/"
        },
        "id": "sc88mACC7M3d",
        "outputId": "f148d977-c04d-46be-c53f-36ab34a7daa9"
      },
      "execution_count": null,
      "outputs": [
        {
          "output_type": "stream",
          "name": "stdout",
          "text": [
            "[[-0.22883014 -0.25873955  0.16508241  0.27097381  0.20536428  0.26536113\n",
            "  -0.47920863 -0.15893693  0.40789206 -0.18895843]\n",
            " [ 0.32930003  0.17495607  0.46010188  0.08536591 -0.12107314 -0.16136088\n",
            "  -0.26198628 -0.30296973  0.01495045 -0.2172843 ]\n",
            " [-0.31193382  0.55746396  0.09376055  0.13148512 -0.07456228 -0.24652698\n",
            "  -0.00162181 -0.3306354  -0.33784546  0.52041611]\n",
            " [-0.3223921   0.37294319 -0.00138639 -0.3206543   0.17316446  0.31206288\n",
            "   0.00074206 -0.10331177  0.07792526 -0.18909328]\n",
            " [-0.29204463  0.42253529  0.31098001 -0.1270647   0.0589932   0.28537596\n",
            "   0.24876595 -0.39475909 -0.19368647 -0.31909553]]\n"
          ]
        }
      ]
    },
    {
      "cell_type": "code",
      "source": [
        "import numpy as np\n",
        "\n",
        "z = np.arange(25).reshape(5, 5)\n",
        "\n",
        "# Поменять 1 и 2 строки местами\n",
        "z[[0, 1]] = z[[1, 0]]\n",
        "\n",
        "print(z)\n"
      ],
      "metadata": {
        "colab": {
          "base_uri": "https://localhost:8080/"
        },
        "id": "nbpm8Rls7Ust",
        "outputId": "ec535a4f-cfa1-4c67-d8ea-f33ede7c9d30"
      },
      "execution_count": null,
      "outputs": [
        {
          "output_type": "stream",
          "name": "stdout",
          "text": [
            "[[ 5  6  7  8  9]\n",
            " [ 0  1  2  3  4]\n",
            " [10 11 12 13 14]\n",
            " [15 16 17 18 19]\n",
            " [20 21 22 23 24]]\n"
          ]
        }
      ]
    },
    {
      "cell_type": "code",
      "source": [
        "import numpy as np\n",
        "\n",
        "z = np.random.random((10, 2))\n",
        "\n",
        "# Преобразуем в полярную систему координат\n",
        "r = np.sqrt(z[:, 0]**2 + z[:, 1]**2)  # Радиус\n",
        "theta = np.arctan2(z[:, 1], z[:, 0])  # Угол\n",
        "\n",
        "# Результат\n",
        "polar_coordinates = np.column_stack((r, theta))\n",
        "\n",
        "print(polar_coordinates)\n"
      ],
      "metadata": {
        "colab": {
          "base_uri": "https://localhost:8080/"
        },
        "id": "zNLuzG-C7cdk",
        "outputId": "9aca4749-ea84-4545-a997-c54224dd7392"
      },
      "execution_count": null,
      "outputs": [
        {
          "output_type": "stream",
          "name": "stdout",
          "text": [
            "[[0.83269809 0.11420047]\n",
            " [0.80268729 0.30874985]\n",
            " [0.51530239 0.57311304]\n",
            " [0.48249752 0.40991515]\n",
            " [0.94702532 1.10330961]\n",
            " [1.00355513 0.4106645 ]\n",
            " [1.24431467 0.80671587]\n",
            " [0.47569647 0.95891641]\n",
            " [0.55616136 0.02022686]\n",
            " [0.49098407 0.4718913 ]]\n"
          ]
        }
      ]
    },
    {
      "cell_type": "code",
      "source": [
        "import numpy as np\n",
        "\n",
        "z = np.random.random(10)\n",
        "\n",
        "# Заменить максимальный элемент на ноль\n",
        "z[np.argmax(z)] = 0\n",
        "\n",
        "print(z)\n"
      ],
      "metadata": {
        "colab": {
          "base_uri": "https://localhost:8080/"
        },
        "id": "pW0inoRP7qBd",
        "outputId": "14b5bdd7-d194-448e-e341-3ff8db06b830"
      },
      "execution_count": null,
      "outputs": [
        {
          "output_type": "stream",
          "name": "stdout",
          "text": [
            "[0.54004565 0.         0.50635826 0.14500532 0.61118504 0.4577366\n",
            " 0.00803569 0.18892493 0.05587851 0.65812839]\n"
          ]
        }
      ]
    },
    {
      "cell_type": "code",
      "source": [
        "import numpy as np\n",
        "\n",
        "z = np.ones(10)\n",
        "i = np.random.randint(0, len(z), 20)\n",
        "\n",
        "# Добавление 1 к каждому элементу с индексом, заданным в массиве i (добавление только 1 раз)\n",
        "unique_indices = np.unique(i)  # Убираем повторяющиеся индексы\n",
        "z[unique_indices] += 1\n",
        "\n",
        "print(z)\n"
      ],
      "metadata": {
        "colab": {
          "base_uri": "https://localhost:8080/"
        },
        "id": "pLfjNiMS74VN",
        "outputId": "b9c0a956-2fa5-4ec3-f9a0-d5074d1ceac4"
      },
      "execution_count": null,
      "outputs": [
        {
          "output_type": "stream",
          "name": "stdout",
          "text": [
            "[2. 2. 2. 2. 2. 2. 2. 2. 2. 2.]\n"
          ]
        }
      ]
    },
    {
      "cell_type": "code",
      "source": [
        "import numpy as np\n",
        "\n",
        "z = np.array([1, 2, 3, 4, 5])\n",
        "\n",
        "# Создаем новый вектор с тремя нулями между каждым элементом\n",
        "new_vector = np.zeros(len(z) * 4 - 3, dtype=int)\n",
        "\n",
        "# Заполняем новый вектор значениями из z с тремя нулями между каждым элементом\n",
        "new_vector[::4] = z\n",
        "\n",
        "print(new_vector)\n",
        "\n"
      ],
      "metadata": {
        "colab": {
          "base_uri": "https://localhost:8080/"
        },
        "id": "rJwyHCc18L3E",
        "outputId": "4ee5539b-4029-41f8-d9a9-e020e6ef2324"
      },
      "execution_count": null,
      "outputs": [
        {
          "output_type": "stream",
          "name": "stdout",
          "text": [
            "[1 0 0 0 2 0 0 0 3 0 0 0 4 0 0 0 5]\n"
          ]
        }
      ]
    },
    {
      "cell_type": "code",
      "source": [
        "import numpy as np\n",
        "\n",
        "z = np.arange(100)  # Массив от 0 до 99\n",
        "v = np.random.uniform(0, 100)  # Случайное число от 0 до 100\n",
        "\n",
        "# Находим ближайшее число в массиве z к числу v\n",
        "closest_value = z[np.abs(z - v).argmin()]\n",
        "\n",
        "print(f\"Заданное значение: {v}\")\n",
        "print(f\"Ближайшее значение в массиве: {closest_value}\")\n"
      ],
      "metadata": {
        "colab": {
          "base_uri": "https://localhost:8080/"
        },
        "id": "cBukhMl98Ybk",
        "outputId": "50201876-ddba-4120-c640-11d99ad3d6f9"
      },
      "execution_count": null,
      "outputs": [
        {
          "output_type": "stream",
          "name": "stdout",
          "text": [
            "Заданное значение: 19.342318353968967\n",
            "Ближайшее значение в массиве: 19\n"
          ]
        }
      ]
    }
  ]
}